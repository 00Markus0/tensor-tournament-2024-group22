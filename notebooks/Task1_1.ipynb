{
 "cells": [
  {
   "cell_type": "markdown",
   "metadata": {},
   "source": [
    "# Task 1 Best solution\n",
    "This is our solution for the First task of the Tensor Tournament in 2024. For this exact problem a less sophisticated solution as presented here is the optimal predictor."
   ]
  },
  {
   "cell_type": "code",
   "execution_count": 2,
   "metadata": {},
   "outputs": [],
   "source": [
    "import numpy as np\n",
    "import pandas as pd\n",
    "from sklearn.preprocessing import StandardScaler, LabelEncoder\n",
    "from sklearn.model_selection import train_test_split\n",
    "from sklearn.linear_model import LinearRegression\n",
    "\n",
    "# Load training and testing data\n",
    "df_train = pd.read_csv(\"./data/task1/train.csv\")\n",
    "df_train = df_train.reindex(sorted(df_train.columns), axis=1)\n",
    "\n",
    "y_train = df_train[\"time_remaining\"]\n",
    "X_train = df_train.drop(columns=[\"time_remaining\"])\n",
    "\n",
    "X_test = pd.read_csv(\"./data/task1/test.csv\")\n",
    "X_test = X_test.reindex(sorted(X_test.columns), axis=1)\n",
    "\n",
    "# Initialize Label Encoders for each categorical column\n",
    "encoders = {}\n",
    "\n",
    "for col in X_train.columns:\n",
    "    if X_train[col].dtype == 'object':  # assuming categorical columns are type 'object'\n",
    "        le = LabelEncoder()\n",
    "        le.fit(X_train[col])  # Fit label encoder\n",
    "        X_train[col] = le.transform(X_train[col])  # Transform training data\n",
    "        X_test[col] = le.transform(X_test[col])  # Transform testing data using trained encoder\n",
    "        encoders[col] = le  # Store encoder\n",
    "\n",
    "# Initialize and train the Linear Regression model\n",
    "linear_regressor = LinearRegression()\n",
    "linear_regressor.fit(X_train, y_train)\n",
    "\n",
    "# Predict remaining time and ensure the shape meets the requirement\n",
    "time_remaining = linear_regressor.predict(X_test)\n",
    "time_remaining = time_remaining.reshape(-1)  # This will also ensure shape is (2000,)\n",
    "\n",
    "# Save the predictions in Numpy format\n",
    "np.save(\"time_remaining.npy\", time_remaining)  # This will save the array to time_remaining.npy"
   ]
  },
  {
   "cell_type": "code",
   "execution_count": 3,
   "metadata": {},
   "outputs": [
    {
     "data": {
      "text/plain": [
       "(2000,)"
      ]
     },
     "execution_count": 3,
     "metadata": {},
     "output_type": "execute_result"
    }
   ],
   "source": [
    "time_remaining.shape"
   ]
  },
  {
   "cell_type": "code",
   "execution_count": 6,
   "metadata": {},
   "outputs": [
    {
     "data": {
      "text/plain": [
       "dtype('float64')"
      ]
     },
     "execution_count": 6,
     "metadata": {},
     "output_type": "execute_result"
    }
   ],
   "source": [
    "time_remaining.dtype"
   ]
  },
  {
   "cell_type": "code",
   "execution_count": 5,
   "metadata": {},
   "outputs": [
    {
     "data": {
      "text/plain": [
       "array([859.86353243, 862.67753805, 951.44125108, ..., 857.23252308,\n",
       "       903.55035409, 898.13250452])"
      ]
     },
     "execution_count": 5,
     "metadata": {},
     "output_type": "execute_result"
    }
   ],
   "source": [
    "time_remaining"
   ]
  }
 ],
 "metadata": {
  "language_info": {
   "name": "python"
  }
 },
 "nbformat": 4,
 "nbformat_minor": 2
}
